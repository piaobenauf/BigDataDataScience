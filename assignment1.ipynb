{
  "cells": [
    {
      "cell_type": "markdown",
      "metadata": {
        "id": "view-in-github",
        "colab_type": "text"
      },
      "source": [
        "<a href=\"https://colab.research.google.com/github/piaobenauf/BigDataDataScience/blob/main/assignment1.ipynb\" target=\"_parent\"><img src=\"https://colab.research.google.com/assets/colab-badge.svg\" alt=\"Open In Colab\"/></a>"
      ]
    },
    {
      "cell_type": "markdown",
      "id": "ae73f189",
      "metadata": {
        "pycharm": {
          "name": "#%% md\n"
        },
        "id": "ae73f189"
      },
      "source": [
        "# Der Schweizer Immobilienmarkt"
      ]
    },
    {
      "cell_type": "markdown",
      "id": "d21d5e49",
      "metadata": {
        "pycharm": {
          "name": "#%% md\n"
        },
        "id": "d21d5e49"
      },
      "source": [
        "\n",
        "Im Immobilienmarkt, speziell bei Wohnungen, zeigt sich eine große Vielfalt an Mietpreisen und Verfügbarkeiten. In der Schweiz, bekannt für ihre hohe Lebensqualität und entsprechend hohe Wohnkosten, bietet der Mietmarkt eine breite Palette an Wohnmöglichkeiten. Parallel dazu hat sich der Markt für kurzfristige Vermietungen, wie Airbnb, ebenfalls etabliert, was eine interessante Dynamik zwischen traditionellem Wohnraum und temporären Aufenthalten schafft.\n",
        "\n",
        "Beispielsweise variieren die Mietpreise für Wohnungen stark je nach Lage, Größe und Ausstattung. In Zürich, einer der teuersten Städte, können die Mieten besonders hoch ausfallen. Die Daten zeigen, dass eine durchschnittliche 3-Zimmer-Wohnung in Zürich mehrere Tausend Franken pro Monat kosten kann.\n",
        "\n",
        "Parallel dazu hat die Popularität von Airbnb in der Schweiz zugenommen, was zu einer interessanten Alternative sowohl für Touristen als auch für kurzfristig Suchende geführt hat. Diese Plattform ermöglicht es Eigentümern, ihre Wohnungen oder Zimmer temporär zu vermieten, was oft höhere Einnahmen als bei langfristigen Mietverträgen verspricht. Die Preisgestaltung bei Airbnb-Unterkünften hängt von verschiedenen Faktoren ab, einschließlich der Lage, der Saison und der Ausstattung des Angebots.\n",
        "\n",
        "Sie haben nun eine Wohnung zu vermieten und Fragen sich, ob es sinnvoller ist, diese auf dem regulären Mietmarkt anzubieten oder AirBnB zu vermarkten.\n",
        "\n",
        "Um die Preisgestaltung und die Dynamik zwischen dem traditionellen Mietmarkt und dem Airbnb-Markt besser zu verstehen, möchten Sie auf Ihr neu erworbenes Data Science Wissen zurückgreifen.\n",
        "\n",
        "Im Rahmen einer Datenanalyse könnten folgende Variablen von Interesse sein:\n",
        "\n",
        "| Feature       | Beschreibung                            |\n",
        "|---------------|-----------------------------------------|\n",
        "| Preis         | Gesamtmietpreis der Wohnung in CHF      |\n",
        "| Zimmer        | Anzahl der Zimmer in der Wohnung        |\n",
        "| Fläche        | Wohnfläche in Quadratmetern             |\n",
        "| Strasse       | Straßenname und Hausnummer der Wohnung  |\n",
        "| Postleitzahl  | Postleitzahl des Wohnortes              |\n",
        "| Stadt         | Stadt, in der sich die Wohnung befindet |\n",
        "| Ammenities    | Liste der Ausstattungsmerkmale          |\n",
        "| Average_Miete_proM2_Postleitzahl  | Durchschnittlicher Mietpreis pro Quadratmeter in CHF bei Wohnungen an dieser Postleitzahl       |\n",
        "\n",
        "\n",
        "Die Daten stammen von Homegate.ch, Immomapper.ch und einem öffentlichen AirBnB Listing (gesammelt und aufbereitet von Boris Szelcsanyi, Fabio Caramaschi, Lorena Raichle, Vanessa Nadine Hoppler)"
      ]
    },
    {
      "cell_type": "markdown",
      "source": [
        "Anmerkung: Google Drive connecten und relevante Libaries importieren"
      ],
      "metadata": {
        "id": "U2fHhe-tDJkP"
      },
      "id": "U2fHhe-tDJkP"
    },
    {
      "cell_type": "code",
      "source": [
        "from google.colab import drive\n",
        "drive.mount('/content/drive')"
      ],
      "metadata": {
        "colab": {
          "base_uri": "https://localhost:8080/"
        },
        "id": "eGQhfZl_CwqG",
        "outputId": "8749bce7-ff71-4823-b40e-4dc877d456ea"
      },
      "id": "eGQhfZl_CwqG",
      "execution_count": null,
      "outputs": [
        {
          "output_type": "stream",
          "name": "stdout",
          "text": [
            "Mounted at /content/drive\n"
          ]
        }
      ]
    },
    {
      "cell_type": "code",
      "execution_count": null,
      "id": "20371591",
      "metadata": {
        "id": "20371591"
      },
      "outputs": [],
      "source": [
        "path = \"/content/drive/MyDrive/Big Data und Data Analytics/Assignements/Assignment 1/\""
      ]
    },
    {
      "cell_type": "code",
      "source": [
        "import pandas as pd\n",
        "import numpy as np\n",
        "import statsmodels.api as sm\n"
      ],
      "metadata": {
        "id": "1mg2nb1CDAgG"
      },
      "id": "1mg2nb1CDAgG",
      "execution_count": null,
      "outputs": []
    },
    {
      "cell_type": "markdown",
      "id": "a0fabc61",
      "metadata": {
        "pycharm": {
          "name": "#%% md\n"
        },
        "id": "a0fabc61"
      },
      "source": [
        "## 1) Lesen Sie das Datenset ein. Wie viele Variablen und Instances umfasst der Datenset. Welche Datentypen sind vorhanden? Was ist der Unterschied zwischen diesen?\n",
        "\n",
        "Hinweis: Csv-Dateien müssen nicht zwangsläufig per Komma getrennte Werte aufweise. Es sind auch andere Trennzeichen möglich (z.B. \";\" oder Tabulator-Einrückungen)."
      ]
    },
    {
      "cell_type": "code",
      "source": [
        "rent = pd.read_csv(path + \"rent-data.csv\")\n",
        "rent.info()"
      ],
      "metadata": {
        "colab": {
          "base_uri": "https://localhost:8080/"
        },
        "id": "aotMLjsaDXwG",
        "outputId": "9a69594d-6c7d-45cf-c799-be213a8cf111"
      },
      "id": "aotMLjsaDXwG",
      "execution_count": null,
      "outputs": [
        {
          "output_type": "stream",
          "name": "stdout",
          "text": [
            "<class 'pandas.core.frame.DataFrame'>\n",
            "RangeIndex: 1377 entries, 0 to 1376\n",
            "Data columns (total 8 columns):\n",
            " #   Column                            Non-Null Count  Dtype  \n",
            "---  ------                            --------------  -----  \n",
            " 0   Preis                             1377 non-null   float64\n",
            " 1   Zimmer                            1377 non-null   float64\n",
            " 2   Fläche                            1377 non-null   float64\n",
            " 3   Strasse                           1377 non-null   object \n",
            " 4   Postleitzahl                      1377 non-null   int64  \n",
            " 5   Stadt                             1377 non-null   object \n",
            " 6   Ammenities                        1377 non-null   object \n",
            " 7   Average_Miete_proM2_Postleitzahl  1377 non-null   float64\n",
            "dtypes: float64(4), int64(1), object(3)\n",
            "memory usage: 86.2+ KB\n"
          ]
        }
      ]
    },
    {
      "cell_type": "markdown",
      "source": [
        "Das Dataset hat 8 Variablen und 1648 Instanzen. Es gibt ingesamt 5 *float* Variablen und 3 *object* Variablen. Diese zwei verschiedenen Datatypes unterschieden sich dadurch, dass *float* Mehrkommazahlen repräsentiert und *objects* Text oder gemischte Datentypen.\n",
        "\n",
        "\n",
        "\n"
      ],
      "metadata": {
        "id": "wllZTjBeEMRg"
      },
      "id": "wllZTjBeEMRg"
    },
    {
      "cell_type": "markdown",
      "id": "1ba9b0c6",
      "metadata": {
        "pycharm": {
          "name": "#%% md\n"
        },
        "id": "1ba9b0c6"
      },
      "source": [
        "## 2) Wandeln Sie Variablen um, die sinvollerweise als Datentyp \"Object\" verfügbar sein sollten.\n",
        "\n",
        "Hinweis: mit der Methode .astype() kann man den Typ von Variablen in einem DataFrame einfach umwandeln. Das Argument ist dann der Datentyp in den man umwandeln möchte.\n",
        "\n",
        "Beispiel: dataframe[\"variable\"] = dataframe[\"variable\"].astype(float)"
      ]
    },
    {
      "cell_type": "code",
      "execution_count": null,
      "id": "b839a8e1",
      "metadata": {
        "id": "b839a8e1"
      },
      "outputs": [],
      "source": [
        "rent[\"Postleitzahl\"] = rent[\"Postleitzahl\"].astype(object)"
      ]
    },
    {
      "cell_type": "markdown",
      "id": "880e70c0",
      "metadata": {
        "pycharm": {
          "name": "#%% md\n"
        },
        "id": "880e70c0"
      },
      "source": [
        "## 3) Was ist die durchschnittliche Miete in Zürich?"
      ]
    },
    {
      "cell_type": "code",
      "execution_count": null,
      "id": "8a7daeae",
      "metadata": {
        "colab": {
          "base_uri": "https://localhost:8080/"
        },
        "id": "8a7daeae",
        "outputId": "9ab69fb1-2e8f-4a05-f551-3cf4522e3fa0"
      },
      "outputs": [
        {
          "output_type": "stream",
          "name": "stdout",
          "text": [
            "3181.5352214960058\n"
          ]
        }
      ],
      "source": [
        "durschnittliche_miete = rent[\"Preis\"].mean()\n",
        "print(durschnittliche_miete)"
      ]
    },
    {
      "cell_type": "markdown",
      "id": "60b8b9e7",
      "metadata": {
        "pycharm": {
          "name": "#%% md\n"
        },
        "id": "60b8b9e7"
      },
      "source": [
        "## 4) Was ist die Adresse der teuersten Wohnung, die sich mieten lässt?"
      ]
    },
    {
      "cell_type": "code",
      "execution_count": null,
      "id": "2ce2aac0",
      "metadata": {
        "colab": {
          "base_uri": "https://localhost:8080/"
        },
        "id": "2ce2aac0",
        "outputId": "cf065bba-d38f-4098-cdcd-1f32a858bc87"
      },
      "outputs": [
        {
          "output_type": "stream",
          "name": "stdout",
          "text": [
            "Oetenbachgasse 22, 8001 Zürich\n"
          ]
        }
      ],
      "source": [
        "teuerste_wohnung = rent.loc[rent[\"Preis\"].idxmax()] # Source for idmax() https://pandas.pydata.org/pandas-docs/stable/reference/api/pandas.DataFrame.idxmax.html\n",
        "adresse = teuerste_wohnung[\"Strasse\"] + \", \" + str(teuerste_wohnung[\"Postleitzahl\"]) + \" \" + teuerste_wohnung[\"Stadt\"]\n",
        "print(adresse)"
      ]
    },
    {
      "cell_type": "markdown",
      "id": "03c10178",
      "metadata": {
        "pycharm": {
          "name": "#%% md\n"
        },
        "id": "03c10178"
      },
      "source": [
        "## 5) Erstellen Sie ein Histogramm für die Variable \"Average_Miete_proM2_Postleitzahl\". Beschreiben Sie die Verteilung der Average_Miete_proM2_Postleitzahl"
      ]
    },
    {
      "cell_type": "code",
      "execution_count": null,
      "id": "0453681c",
      "metadata": {
        "id": "0453681c",
        "colab": {
          "base_uri": "https://localhost:8080/",
          "height": 447
        },
        "outputId": "e3ed42aa-d182-4f28-a998-e05c0758034d"
      },
      "outputs": [
        {
          "output_type": "execute_result",
          "data": {
            "text/plain": [
              "<Axes: >"
            ]
          },
          "metadata": {},
          "execution_count": 8
        },
        {
          "output_type": "display_data",
          "data": {
            "text/plain": [
              "<Figure size 640x480 with 1 Axes>"
            ],
            "image/png": "[encoded data removed]"
          },
          "metadata": {}
        }
      ],
      "source": [
        "rent[\"Average_Miete_proM2_Postleitzahl\"].hist()"
      ]
    },
    {
      "cell_type": "markdown",
      "source": [
        "Das Histogramm zeigt, dass es eine recht große Anzahl von Angeboten im unteren Preissegment gibt (niedrigste Balken links), dann einige weniger in den mittleren Preisklassen und wieder mehr in einer höheren Preisklasse, bevor die Anzahl in der höchsten Preisklasse (rechter Balken) wieder stark abfällt."
      ],
      "metadata": {
        "id": "vDG7Xd7AEmmF"
      },
      "id": "vDG7Xd7AEmmF"
    },
    {
      "cell_type": "markdown",
      "id": "0438e0a0",
      "metadata": {
        "pycharm": {
          "name": "#%% md\n"
        },
        "id": "0438e0a0"
      },
      "source": [
        "## 6)\tErstellen Sie einen Scatterplot zwischen \"Preis\" und \"Average_Miete_proM2_Postleitzahl\". Wie würden sie den Zusammenhang beschreiben? Ermitteln Sie zusätzlich den Korrelationskoeffzienten? Wie ist dieser zur Interpretieren?"
      ]
    },
    {
      "cell_type": "code",
      "execution_count": null,
      "id": "8771efa9",
      "metadata": {
        "id": "8771efa9",
        "colab": {
          "base_uri": "https://localhost:8080/",
          "height": 468
        },
        "outputId": "37751629-ce64-494c-f951-282b5056f94c"
      },
      "outputs": [
        {
          "output_type": "execute_result",
          "data": {
            "text/plain": [
              "<Axes: xlabel='Average_Miete_proM2_Postleitzahl', ylabel='Preis'>"
            ]
          },
          "metadata": {},
          "execution_count": 9
        },
        {
          "output_type": "display_data",
          "data": {
            "text/plain": [
              "<Figure size 640x480 with 1 Axes>"
            ],
            "image/png": "[encoded data removed]"
          },
          "metadata": {}
        }
      ],
      "source": [
        "rent.plot(kind=\"scatter\", x=\"Average_Miete_proM2_Postleitzahl\", y=\"Preis\")"
      ]
    },
    {
      "cell_type": "code",
      "source": [
        "# corr() aus der Vorlesung\n",
        "rent.corr()"
      ],
      "metadata": {
        "colab": {
          "base_uri": "https://localhost:8080/",
          "height": 227
        },
        "id": "UXqFZJrfFWRR",
        "outputId": "0041c25c-cfe5-459a-be87-fbc9349cd755"
      },
      "id": "UXqFZJrfFWRR",
      "execution_count": null,
      "outputs": [
        {
          "output_type": "stream",
          "name": "stderr",
          "text": [
            "<ipython-input-10-1b75735d3ff8>:2: FutureWarning: The default value of numeric_only in DataFrame.corr is deprecated. In a future version, it will default to False. Select only valid columns or specify the value of numeric_only to silence this warning.\n",
            "  rent.corr()\n"
          ]
        },
        {
          "output_type": "execute_result",
          "data": {
            "text/plain": [
              "                                     Preis    Zimmer    Fläche  \\\n",
              "Preis                             1.000000  0.525282  0.626821   \n",
              "Zimmer                            0.525282  1.000000  0.834111   \n",
              "Fläche                            0.626821  0.834111  1.000000   \n",
              "Average_Miete_proM2_Postleitzahl  0.191130 -0.223229 -0.227495   \n",
              "\n",
              "                                  Average_Miete_proM2_Postleitzahl  \n",
              "Preis                                                     0.191130  \n",
              "Zimmer                                                   -0.223229  \n",
              "Fläche                                                   -0.227495  \n",
              "Average_Miete_proM2_Postleitzahl                          1.000000  "
            ],
            "text/html": [
              "\n",
              "  <div id=\"df-cca28d9f-d126-4e11-8430-f6b43b151ef5\" class=\"colab-df-container\">\n",
              "    <div>\n",
              "<style scoped>\n",
              "    .dataframe tbody tr th:only-of-type {\n",
              "        vertical-align: middle;\n",
              "    }\n",
              "\n",
              "    .dataframe tbody tr th {\n",
              "        vertical-align: top;\n",
              "    }\n",
              "\n",
              "    .dataframe thead th {\n",
              "        text-align: right;\n",
              "    }\n",
              "</style>\n",
              "<table border=\"1\" class=\"dataframe\">\n",
              "  <thead>\n",
              "    <tr style=\"text-align: right;\">\n",
              "      <th></th>\n",
              "      <th>Preis</th>\n",
              "      <th>Zimmer</th>\n",
              "      <th>Fläche</th>\n",
              "      <th>Average_Miete_proM2_Postleitzahl</th>\n",
              "    </tr>\n",
              "  </thead>\n",
              "  <tbody>\n",
              "    <tr>\n",
              "      <th>Preis</th>\n",
              "      <td>1.000000</td>\n",
              "      <td>0.525282</td>\n",
              "      <td>0.626821</td>\n",
              "      <td>0.191130</td>\n",
              "    </tr>\n",
              "    <tr>\n",
              "      <th>Zimmer</th>\n",
              "      <td>0.525282</td>\n",
              "      <td>1.000000</td>\n",
              "      <td>0.834111</td>\n",
              "      <td>-0.223229</td>\n",
              "    </tr>\n",
              "    <tr>\n",
              "      <th>Fläche</th>\n",
              "      <td>0.626821</td>\n",
              "      <td>0.834111</td>\n",
              "      <td>1.000000</td>\n",
              "      <td>-0.227495</td>\n",
              "    </tr>\n",
              "    <tr>\n",
              "      <th>Average_Miete_proM2_Postleitzahl</th>\n",
              "      <td>0.191130</td>\n",
              "      <td>-0.223229</td>\n",
              "      <td>-0.227495</td>\n",
              "      <td>1.000000</td>\n",
              "    </tr>\n",
              "  </tbody>\n",
              "</table>\n",
              "</div>\n",
              "    <div class=\"colab-df-buttons\">\n",
              "\n",
              "  <div class=\"colab-df-container\">\n",
              "    <button class=\"colab-df-convert\" onclick=\"convertToInteractive('df-cca28d9f-d126-4e11-8430-f6b43b151ef5')\"\n",
              "            title=\"Convert this dataframe to an interactive table.\"\n",
              "            style=\"display:none;\">\n",
              "\n",
              "  <svg xmlns=\"http://www.w3.org/2000/svg\" height=\"24px\" viewBox=\"0 -960 960 960\">\n",
              "    <path d=\"M120-120v-720h720v720H120Zm60-500h600v-160H180v160Zm220 220h160v-160H400v160Zm0 220h160v-160H400v160ZM180-400h160v-160H180v160Zm440 0h160v-160H620v160ZM180-180h160v-160H180v160Zm440 0h160v-160H620v160Z\"/>\n",
              "  </svg>\n",
              "    </button>\n",
              "\n",
              "  <style>\n",
              "    .colab-df-container {\n",
              "      display:flex;\n",
              "      gap: 12px;\n",
              "    }\n",
              "\n",
              "    .colab-df-convert {\n",
              "      background-color: #E8F0FE;\n",
              "      border: none;\n",
              "      border-radius: 50%;\n",
              "      cursor: pointer;\n",
              "      display: none;\n",
              "      fill: #1967D2;\n",
              "      height: 32px;\n",
              "      padding: 0 0 0 0;\n",
              "      width: 32px;\n",
              "    }\n",
              "\n",
              "    .colab-df-convert:hover {\n",
              "      background-color: #E2EBFA;\n",
              "      box-shadow: 0px 1px 2px rgba(60, 64, 67, 0.3), 0px 1px 3px 1px rgba(60, 64, 67, 0.15);\n",
              "      fill: #174EA6;\n",
              "    }\n",
              "\n",
              "    .colab-df-buttons div {\n",
              "      margin-bottom: 4px;\n",
              "    }\n",
              "\n",
              "    [theme=dark] .colab-df-convert {\n",
              "      background-color: #3B4455;\n",
              "      fill: #D2E3FC;\n",
              "    }\n",
              "\n",
              "    [theme=dark] .colab-df-convert:hover {\n",
              "      background-color: #434B5C;\n",
              "      box-shadow: 0px 1px 3px 1px rgba(0, 0, 0, 0.15);\n",
              "      filter: drop-shadow(0px 1px 2px rgba(0, 0, 0, 0.3));\n",
              "      fill: #FFFFFF;\n",
              "    }\n",
              "  </style>\n",
              "\n",
              "    <script>\n",
              "      const buttonEl =\n",
              "        document.querySelector('#df-cca28d9f-d126-4e11-8430-f6b43b151ef5 button.colab-df-convert');\n",
              "      buttonEl.style.display =\n",
              "        google.colab.kernel.accessAllowed ? 'block' : 'none';\n",
              "\n",
              "      async function convertToInteractive(key) {\n",
              "        const element = document.querySelector('#df-cca28d9f-d126-4e11-8430-f6b43b151ef5');\n",
              "        const dataTable =\n",
              "          await google.colab.kernel.invokeFunction('convertToInteractive',\n",
              "                                                    [key], {});\n",
              "        if (!dataTable) return;\n",
              "\n",
              "        const docLinkHtml = 'Like what you see? Visit the ' +\n",
              "          '<a target=\"_blank\" href=https://colab.research.google.com/notebooks/data_table.ipynb>data table notebook</a>'\n",
              "          + ' to learn more about interactive tables.';\n",
              "        element.innerHTML = '';\n",
              "        dataTable['output_type'] = 'display_data';\n",
              "        await google.colab.output.renderOutput(dataTable, element);\n",
              "        const docLink = document.createElement('div');\n",
              "        docLink.innerHTML = docLinkHtml;\n",
              "        element.appendChild(docLink);\n",
              "      }\n",
              "    </script>\n",
              "  </div>\n",
              "\n",
              "\n",
              "<div id=\"df-30b14535-0981-4b84-b396-49b45cac007c\">\n",
              "  <button class=\"colab-df-quickchart\" onclick=\"quickchart('df-30b14535-0981-4b84-b396-49b45cac007c')\"\n",
              "            title=\"Suggest charts\"\n",
              "            style=\"display:none;\">\n",
              "\n",
              "<svg xmlns=\"http://www.w3.org/2000/svg\" height=\"24px\"viewBox=\"0 0 24 24\"\n",
              "     width=\"24px\">\n",
              "    <g>\n",
              "        <path d=\"M19 3H5c-1.1 0-2 .9-2 2v14c0 1.1.9 2 2 2h14c1.1 0 2-.9 2-2V5c0-1.1-.9-2-2-2zM9 17H7v-7h2v7zm4 0h-2V7h2v10zm4 0h-2v-4h2v4z\"/>\n",
              "    </g>\n",
              "</svg>\n",
              "  </button>\n",
              "\n",
              "<style>\n",
              "  .colab-df-quickchart {\n",
              "      --bg-color: #E8F0FE;\n",
              "      --fill-color: #1967D2;\n",
              "      --hover-bg-color: #E2EBFA;\n",
              "      --hover-fill-color: #174EA6;\n",
              "      --disabled-fill-color: #AAA;\n",
              "      --disabled-bg-color: #DDD;\n",
              "  }\n",
              "\n",
              "  [theme=dark] .colab-df-quickchart {\n",
              "      --bg-color: #3B4455;\n",
              "      --fill-color: #D2E3FC;\n",
              "      --hover-bg-color: #434B5C;\n",
              "      --hover-fill-color: #FFFFFF;\n",
              "      --disabled-bg-color: #3B4455;\n",
              "      --disabled-fill-color: #666;\n",
              "  }\n",
              "\n",
              "  .colab-df-quickchart {\n",
              "    background-color: var(--bg-color);\n",
              "    border: none;\n",
              "    border-radius: 50%;\n",
              "    cursor: pointer;\n",
              "    display: none;\n",
              "    fill: var(--fill-color);\n",
              "    height: 32px;\n",
              "    padding: 0;\n",
              "    width: 32px;\n",
              "  }\n",
              "\n",
              "  .colab-df-quickchart:hover {\n",
              "    background-color: var(--hover-bg-color);\n",
              "    box-shadow: 0 1px 2px rgba(60, 64, 67, 0.3), 0 1px 3px 1px rgba(60, 64, 67, 0.15);\n",
              "    fill: var(--button-hover-fill-color);\n",
              "  }\n",
              "\n",
              "  .colab-df-quickchart-complete:disabled,\n",
              "  .colab-df-quickchart-complete:disabled:hover {\n",
              "    background-color: var(--disabled-bg-color);\n",
              "    fill: var(--disabled-fill-color);\n",
              "    box-shadow: none;\n",
              "  }\n",
              "\n",
              "  .colab-df-spinner {\n",
              "    border: 2px solid var(--fill-color);\n",
              "    border-color: transparent;\n",
              "    border-bottom-color: var(--fill-color);\n",
              "    animation:\n",
              "      spin 1s steps(1) infinite;\n",
              "  }\n",
              "\n",
              "  @keyframes spin {\n",
              "    0% {\n",
              "      border-color: transparent;\n",
              "      border-bottom-color: var(--fill-color);\n",
              "      border-left-color: var(--fill-color);\n",
              "    }\n",
              "    20% {\n",
              "      border-color: transparent;\n",
              "      border-left-color: var(--fill-color);\n",
              "      border-top-color: var(--fill-color);\n",
              "    }\n",
              "    30% {\n",
              "      border-color: transparent;\n",
              "      border-left-color: var(--fill-color);\n",
              "      border-top-color: var(--fill-color);\n",
              "      border-right-color: var(--fill-color);\n",
              "    }\n",
              "    40% {\n",
              "      border-color: transparent;\n",
              "      border-right-color: var(--fill-color);\n",
              "      border-top-color: var(--fill-color);\n",
              "    }\n",
              "    60% {\n",
              "      border-color: transparent;\n",
              "      border-right-color: var(--fill-color);\n",
              "    }\n",
              "    80% {\n",
              "      border-color: transparent;\n",
              "      border-right-color: var(--fill-color);\n",
              "      border-bottom-color: var(--fill-color);\n",
              "    }\n",
              "    90% {\n",
              "      border-color: transparent;\n",
              "      border-bottom-color: var(--fill-color);\n",
              "    }\n",
              "  }\n",
              "</style>\n",
              "\n",
              "  <script>\n",
              "    async function quickchart(key) {\n",
              "      const quickchartButtonEl =\n",
              "        document.querySelector('#' + key + ' button');\n",
              "      quickchartButtonEl.disabled = true;  // To prevent multiple clicks.\n",
              "      quickchartButtonEl.classList.add('colab-df-spinner');\n",
              "      try {\n",
              "        const charts = await google.colab.kernel.invokeFunction(\n",
              "            'suggestCharts', [key], {});\n",
              "      } catch (error) {\n",
              "        console.error('Error during call to suggestCharts:', error);\n",
              "      }\n",
              "      quickchartButtonEl.classList.remove('colab-df-spinner');\n",
              "      quickchartButtonEl.classList.add('colab-df-quickchart-complete');\n",
              "    }\n",
              "    (() => {\n",
              "      let quickchartButtonEl =\n",
              "        document.querySelector('#df-30b14535-0981-4b84-b396-49b45cac007c button');\n",
              "      quickchartButtonEl.style.display =\n",
              "        google.colab.kernel.accessAllowed ? 'block' : 'none';\n",
              "    })();\n",
              "  </script>\n",
              "</div>\n",
              "    </div>\n",
              "  </div>\n"
            ],
            "application/vnd.google.colaboratory.intrinsic+json": {
              "type": "dataframe",
              "summary": "{\n  \"name\": \"rent\",\n  \"rows\": 4,\n  \"fields\": [\n    {\n      \"column\": \"Preis\",\n      \"properties\": {\n        \"dtype\": \"number\",\n        \"std\": 0.33300219766305394,\n        \"min\": 0.19112975333717494,\n        \"max\": 1.0,\n        \"num_unique_values\": 4,\n        \"samples\": [\n          0.5252820073166684,\n          0.19112975333717494,\n          1.0\n        ],\n        \"semantic_type\": \"\",\n        \"description\": \"\"\n      }\n    },\n    {\n      \"column\": \"Zimmer\",\n      \"properties\": {\n        \"dtype\": \"number\",\n        \"std\": 0.5418161324983869,\n        \"min\": -0.22322899315780823,\n        \"max\": 1.0,\n        \"num_unique_values\": 4,\n        \"samples\": [\n          1.0,\n          -0.22322899315780823,\n          0.5252820073166684\n        ],\n        \"semantic_type\": \"\",\n        \"description\": \"\"\n      }\n    },\n    {\n      \"column\": \"Fl\\u00e4che\",\n      \"properties\": {\n        \"dtype\": \"number\",\n        \"std\": 0.5456921941716185,\n        \"min\": -0.2274953818271833,\n        \"max\": 1.0,\n        \"num_unique_values\": 4,\n        \"samples\": [\n          0.834110678800606,\n          -0.2274953818271833,\n          0.6268209723655929\n        ],\n        \"semantic_type\": \"\",\n        \"description\": \"\"\n      }\n    },\n    {\n      \"column\": \"Average_Miete_proM2_Postleitzahl\",\n      \"properties\": {\n        \"dtype\": \"number\",\n        \"std\": 0.5776578813555258,\n        \"min\": -0.2274953818271833,\n        \"max\": 1.0,\n        \"num_unique_values\": 4,\n        \"samples\": [\n          -0.22322899315780823,\n          1.0,\n          0.19112975333717494\n        ],\n        \"semantic_type\": \"\",\n        \"description\": \"\"\n      }\n    }\n  ]\n}"
            }
          },
          "metadata": {},
          "execution_count": 10
        }
      ]
    },
    {
      "cell_type": "markdown",
      "source": [
        "Korrelationskoeffizient is 0.191130. Das heisst wir sehen hier einen schwach positiven linearen Zusammenhang."
      ],
      "metadata": {
        "id": "3rw1MXWVG1D6"
      },
      "id": "3rw1MXWVG1D6"
    },
    {
      "cell_type": "markdown",
      "id": "fa23e952",
      "metadata": {
        "pycharm": {
          "name": "#%% md\n"
        },
        "id": "fa23e952"
      },
      "source": [
        "## 7) Entfernen Sie Variablen die wir noch nicht verwenden können für eine Preisvorhersage"
      ]
    },
    {
      "cell_type": "code",
      "execution_count": null,
      "id": "51eceece",
      "metadata": {
        "id": "51eceece",
        "colab": {
          "base_uri": "https://localhost:8080/",
          "height": 204
        },
        "outputId": "458538ac-390d-4394-b5ff-2aef611e7b52"
      },
      "outputs": [
        {
          "output_type": "execute_result",
          "data": {
            "text/plain": [
              "    Preis  Zimmer  Fläche  Average_Miete_proM2_Postleitzahl\n",
              "0  1950.0     2.0    75.0                         58.701345\n",
              "1  1640.0     1.5    40.0                         47.344255\n",
              "2  2051.0     3.0    59.0                         40.033191\n",
              "3  3850.0     2.5    72.0                         53.765652\n",
              "4  3030.0     2.0    70.0                         52.771184"
            ],
            "text/html": [
              "\n",
              "  <div id=\"df-f72b3107-dea4-4ce4-b41c-a71f80a4e643\" class=\"colab-df-container\">\n",
              "    <div>\n",
              "<style scoped>\n",
              "    .dataframe tbody tr th:only-of-type {\n",
              "        vertical-align: middle;\n",
              "    }\n",
              "\n",
              "    .dataframe tbody tr th {\n",
              "        vertical-align: top;\n",
              "    }\n",
              "\n",
              "    .dataframe thead th {\n",
              "        text-align: right;\n",
              "    }\n",
              "</style>\n",
              "<table border=\"1\" class=\"dataframe\">\n",
              "  <thead>\n",
              "    <tr style=\"text-align: right;\">\n",
              "      <th></th>\n",
              "      <th>Preis</th>\n",
              "      <th>Zimmer</th>\n",
              "      <th>Fläche</th>\n",
              "      <th>Average_Miete_proM2_Postleitzahl</th>\n",
              "    </tr>\n",
              "  </thead>\n",
              "  <tbody>\n",
              "    <tr>\n",
              "      <th>0</th>\n",
              "      <td>1950.0</td>\n",
              "      <td>2.0</td>\n",
              "      <td>75.0</td>\n",
              "      <td>58.701345</td>\n",
              "    </tr>\n",
              "    <tr>\n",
              "      <th>1</th>\n",
              "      <td>1640.0</td>\n",
              "      <td>1.5</td>\n",
              "      <td>40.0</td>\n",
              "      <td>47.344255</td>\n",
              "    </tr>\n",
              "    <tr>\n",
              "      <th>2</th>\n",
              "      <td>2051.0</td>\n",
              "      <td>3.0</td>\n",
              "      <td>59.0</td>\n",
              "      <td>40.033191</td>\n",
              "    </tr>\n",
              "    <tr>\n",
              "      <th>3</th>\n",
              "      <td>3850.0</td>\n",
              "      <td>2.5</td>\n",
              "      <td>72.0</td>\n",
              "      <td>53.765652</td>\n",
              "    </tr>\n",
              "    <tr>\n",
              "      <th>4</th>\n",
              "      <td>3030.0</td>\n",
              "      <td>2.0</td>\n",
              "      <td>70.0</td>\n",
              "      <td>52.771184</td>\n",
              "    </tr>\n",
              "  </tbody>\n",
              "</table>\n",
              "</div>\n",
              "    <div class=\"colab-df-buttons\">\n",
              "\n",
              "  <div class=\"colab-df-container\">\n",
              "    <button class=\"colab-df-convert\" onclick=\"convertToInteractive('df-f72b3107-dea4-4ce4-b41c-a71f80a4e643')\"\n",
              "            title=\"Convert this dataframe to an interactive table.\"\n",
              "            style=\"display:none;\">\n",
              "\n",
              "  <svg xmlns=\"http://www.w3.org/2000/svg\" height=\"24px\" viewBox=\"0 -960 960 960\">\n",
              "    <path d=\"M120-120v-720h720v720H120Zm60-500h600v-160H180v160Zm220 220h160v-160H400v160Zm0 220h160v-160H400v160ZM180-400h160v-160H180v160Zm440 0h160v-160H620v160ZM180-180h160v-160H180v160Zm440 0h160v-160H620v160Z\"/>\n",
              "  </svg>\n",
              "    </button>\n",
              "\n",
              "  <style>\n",
              "    .colab-df-container {\n",
              "      display:flex;\n",
              "      gap: 12px;\n",
              "    }\n",
              "\n",
              "    .colab-df-convert {\n",
              "      background-color: #E8F0FE;\n",
              "      border: none;\n",
              "      border-radius: 50%;\n",
              "      cursor: pointer;\n",
              "      display: none;\n",
              "      fill: #1967D2;\n",
              "      height: 32px;\n",
              "      padding: 0 0 0 0;\n",
              "      width: 32px;\n",
              "    }\n",
              "\n",
              "    .colab-df-convert:hover {\n",
              "      background-color: #E2EBFA;\n",
              "      box-shadow: 0px 1px 2px rgba(60, 64, 67, 0.3), 0px 1px 3px 1px rgba(60, 64, 67, 0.15);\n",
              "      fill: #174EA6;\n",
              "    }\n",
              "\n",
              "    .colab-df-buttons div {\n",
              "      margin-bottom: 4px;\n",
              "    }\n",
              "\n",
              "    [theme=dark] .colab-df-convert {\n",
              "      background-color: #3B4455;\n",
              "      fill: #D2E3FC;\n",
              "    }\n",
              "\n",
              "    [theme=dark] .colab-df-convert:hover {\n",
              "      background-color: #434B5C;\n",
              "      box-shadow: 0px 1px 3px 1px rgba(0, 0, 0, 0.15);\n",
              "      filter: drop-shadow(0px 1px 2px rgba(0, 0, 0, 0.3));\n",
              "      fill: #FFFFFF;\n",
              "    }\n",
              "  </style>\n",
              "\n",
              "    <script>\n",
              "      const buttonEl =\n",
              "        document.querySelector('#df-f72b3107-dea4-4ce4-b41c-a71f80a4e643 button.colab-df-convert');\n",
              "      buttonEl.style.display =\n",
              "        google.colab.kernel.accessAllowed ? 'block' : 'none';\n",
              "\n",
              "      async function convertToInteractive(key) {\n",
              "        const element = document.querySelector('#df-f72b3107-dea4-4ce4-b41c-a71f80a4e643');\n",
              "        const dataTable =\n",
              "          await google.colab.kernel.invokeFunction('convertToInteractive',\n",
              "                                                    [key], {});\n",
              "        if (!dataTable) return;\n",
              "\n",
              "        const docLinkHtml = 'Like what you see? Visit the ' +\n",
              "          '<a target=\"_blank\" href=https://colab.research.google.com/notebooks/data_table.ipynb>data table notebook</a>'\n",
              "          + ' to learn more about interactive tables.';\n",
              "        element.innerHTML = '';\n",
              "        dataTable['output_type'] = 'display_data';\n",
              "        await google.colab.output.renderOutput(dataTable, element);\n",
              "        const docLink = document.createElement('div');\n",
              "        docLink.innerHTML = docLinkHtml;\n",
              "        element.appendChild(docLink);\n",
              "      }\n",
              "    </script>\n",
              "  </div>\n",
              "\n",
              "\n",
              "<div id=\"df-857a1f7a-7aa8-4acd-93d7-a4654c054fd2\">\n",
              "  <button class=\"colab-df-quickchart\" onclick=\"quickchart('df-857a1f7a-7aa8-4acd-93d7-a4654c054fd2')\"\n",
              "            title=\"Suggest charts\"\n",
              "            style=\"display:none;\">\n",
              "\n",
              "<svg xmlns=\"http://www.w3.org/2000/svg\" height=\"24px\"viewBox=\"0 0 24 24\"\n",
              "     width=\"24px\">\n",
              "    <g>\n",
              "        <path d=\"M19 3H5c-1.1 0-2 .9-2 2v14c0 1.1.9 2 2 2h14c1.1 0 2-.9 2-2V5c0-1.1-.9-2-2-2zM9 17H7v-7h2v7zm4 0h-2V7h2v10zm4 0h-2v-4h2v4z\"/>\n",
              "    </g>\n",
              "</svg>\n",
              "  </button>\n",
              "\n",
              "<style>\n",
              "  .colab-df-quickchart {\n",
              "      --bg-color: #E8F0FE;\n",
              "      --fill-color: #1967D2;\n",
              "      --hover-bg-color: #E2EBFA;\n",
              "      --hover-fill-color: #174EA6;\n",
              "      --disabled-fill-color: #AAA;\n",
              "      --disabled-bg-color: #DDD;\n",
              "  }\n",
              "\n",
              "  [theme=dark] .colab-df-quickchart {\n",
              "      --bg-color: #3B4455;\n",
              "      --fill-color: #D2E3FC;\n",
              "      --hover-bg-color: #434B5C;\n",
              "      --hover-fill-color: #FFFFFF;\n",
              "      --disabled-bg-color: #3B4455;\n",
              "      --disabled-fill-color: #666;\n",
              "  }\n",
              "\n",
              "  .colab-df-quickchart {\n",
              "    background-color: var(--bg-color);\n",
              "    border: none;\n",
              "    border-radius: 50%;\n",
              "    cursor: pointer;\n",
              "    display: none;\n",
              "    fill: var(--fill-color);\n",
              "    height: 32px;\n",
              "    padding: 0;\n",
              "    width: 32px;\n",
              "  }\n",
              "\n",
              "  .colab-df-quickchart:hover {\n",
              "    background-color: var(--hover-bg-color);\n",
              "    box-shadow: 0 1px 2px rgba(60, 64, 67, 0.3), 0 1px 3px 1px rgba(60, 64, 67, 0.15);\n",
              "    fill: var(--button-hover-fill-color);\n",
              "  }\n",
              "\n",
              "  .colab-df-quickchart-complete:disabled,\n",
              "  .colab-df-quickchart-complete:disabled:hover {\n",
              "    background-color: var(--disabled-bg-color);\n",
              "    fill: var(--disabled-fill-color);\n",
              "    box-shadow: none;\n",
              "  }\n",
              "\n",
              "  .colab-df-spinner {\n",
              "    border: 2px solid var(--fill-color);\n",
              "    border-color: transparent;\n",
              "    border-bottom-color: var(--fill-color);\n",
              "    animation:\n",
              "      spin 1s steps(1) infinite;\n",
              "  }\n",
              "\n",
              "  @keyframes spin {\n",
              "    0% {\n",
              "      border-color: transparent;\n",
              "      border-bottom-color: var(--fill-color);\n",
              "      border-left-color: var(--fill-color);\n",
              "    }\n",
              "    20% {\n",
              "      border-color: transparent;\n",
              "      border-left-color: var(--fill-color);\n",
              "      border-top-color: var(--fill-color);\n",
              "    }\n",
              "    30% {\n",
              "      border-color: transparent;\n",
              "      border-left-color: var(--fill-color);\n",
              "      border-top-color: var(--fill-color);\n",
              "      border-right-color: var(--fill-color);\n",
              "    }\n",
              "    40% {\n",
              "      border-color: transparent;\n",
              "      border-right-color: var(--fill-color);\n",
              "      border-top-color: var(--fill-color);\n",
              "    }\n",
              "    60% {\n",
              "      border-color: transparent;\n",
              "      border-right-color: var(--fill-color);\n",
              "    }\n",
              "    80% {\n",
              "      border-color: transparent;\n",
              "      border-right-color: var(--fill-color);\n",
              "      border-bottom-color: var(--fill-color);\n",
              "    }\n",
              "    90% {\n",
              "      border-color: transparent;\n",
              "      border-bottom-color: var(--fill-color);\n",
              "    }\n",
              "  }\n",
              "</style>\n",
              "\n",
              "  <script>\n",
              "    async function quickchart(key) {\n",
              "      const quickchartButtonEl =\n",
              "        document.querySelector('#' + key + ' button');\n",
              "      quickchartButtonEl.disabled = true;  // To prevent multiple clicks.\n",
              "      quickchartButtonEl.classList.add('colab-df-spinner');\n",
              "      try {\n",
              "        const charts = await google.colab.kernel.invokeFunction(\n",
              "            'suggestCharts', [key], {});\n",
              "      } catch (error) {\n",
              "        console.error('Error during call to suggestCharts:', error);\n",
              "      }\n",
              "      quickchartButtonEl.classList.remove('colab-df-spinner');\n",
              "      quickchartButtonEl.classList.add('colab-df-quickchart-complete');\n",
              "    }\n",
              "    (() => {\n",
              "      let quickchartButtonEl =\n",
              "        document.querySelector('#df-857a1f7a-7aa8-4acd-93d7-a4654c054fd2 button');\n",
              "      quickchartButtonEl.style.display =\n",
              "        google.colab.kernel.accessAllowed ? 'block' : 'none';\n",
              "    })();\n",
              "  </script>\n",
              "</div>\n",
              "    </div>\n",
              "  </div>\n"
            ],
            "application/vnd.google.colaboratory.intrinsic+json": {
              "type": "dataframe",
              "variable_name": "rent",
              "summary": "{\n  \"name\": \"rent\",\n  \"rows\": 1377,\n  \"fields\": [\n    {\n      \"column\": \"Preis\",\n      \"properties\": {\n        \"dtype\": \"number\",\n        \"std\": 1534.7157737534571,\n        \"min\": 500.0,\n        \"max\": 16875.0,\n        \"num_unique_values\": 568,\n        \"samples\": [\n          7500.0,\n          2430.0,\n          4390.0\n        ],\n        \"semantic_type\": \"\",\n        \"description\": \"\"\n      }\n    },\n    {\n      \"column\": \"Zimmer\",\n      \"properties\": {\n        \"dtype\": \"number\",\n        \"std\": 1.149938267194407,\n        \"min\": 1.0,\n        \"max\": 13.0,\n        \"num_unique_values\": 16,\n        \"samples\": [\n          2.0,\n          1.5,\n          3.5\n        ],\n        \"semantic_type\": \"\",\n        \"description\": \"\"\n      }\n    },\n    {\n      \"column\": \"Fl\\u00e4che\",\n      \"properties\": {\n        \"dtype\": \"number\",\n        \"std\": 36.70824064515721,\n        \"min\": 10.0,\n        \"max\": 450.0,\n        \"num_unique_values\": 153,\n        \"samples\": [\n          131.0,\n          94.0,\n          104.0\n        ],\n        \"semantic_type\": \"\",\n        \"description\": \"\"\n      }\n    },\n    {\n      \"column\": \"Average_Miete_proM2_Postleitzahl\",\n      \"properties\": {\n        \"dtype\": \"number\",\n        \"std\": 10.902232848409778,\n        \"min\": 13.43,\n        \"max\": 74.087,\n        \"num_unique_values\": 65,\n        \"samples\": [\n          30.05666666666667,\n          26.75,\n          58.701344537815125\n        ],\n        \"semantic_type\": \"\",\n        \"description\": \"\"\n      }\n    }\n  ]\n}"
            }
          },
          "metadata": {},
          "execution_count": 11
        }
      ],
      "source": [
        "rent = rent.drop([\"Ammenities\", \"Strasse\" , \"Stadt\", \"Postleitzahl\"], axis = 1)\n",
        "rent.head()"
      ]
    },
    {
      "cell_type": "markdown",
      "id": "7054e4da",
      "metadata": {
        "id": "7054e4da"
      },
      "source": [
        "## 8) Erstellen Sie jeweils einen Trainings- und einen Testdatensatz  für die Daten. Das Trainingsdatenset soll die ersten 70% der Instanzen umfassen. Die Testdaten die restlichen 30%."
      ]
    },
    {
      "cell_type": "code",
      "source": [
        "n = rent.shape[0]\n",
        "instance = round(n*0.7, 0)"
      ],
      "metadata": {
        "id": "tCFxRgRpX4QT"
      },
      "id": "tCFxRgRpX4QT",
      "execution_count": null,
      "outputs": []
    },
    {
      "cell_type": "code",
      "execution_count": null,
      "id": "147e7c16",
      "metadata": {
        "id": "147e7c16"
      },
      "outputs": [],
      "source": [
        "rent_train = rent.loc[0:instance,:]\n",
        "rent_test = rent.loc[instance+1:,:]"
      ]
    },
    {
      "cell_type": "markdown",
      "id": "8c68f818",
      "metadata": {
        "pycharm": {
          "name": "#%% md\n"
        },
        "id": "8c68f818"
      },
      "source": [
        "## 9) Erstellen Sie ein Regressionsmodell mit dem Sie den Preis in einer Wohnung vorhersagen! Welche Variablen haben einen relevanten Einfluss auf den Preis?"
      ]
    },
    {
      "cell_type": "code",
      "source": [
        "y = rent_train[\"Preis\"]\n",
        "X = rent_train[[\"Zimmer\" , \"Fläche\" , \"Average_Miete_proM2_Postleitzahl\"]]\n",
        "\n",
        "X = sm.add_constant(X, prepend=False)\n",
        "model  = sm.OLS(y, X)\n",
        "\n",
        "model = model.fit()\n",
        "\n",
        "print(model.summary())"
      ],
      "metadata": {
        "colab": {
          "base_uri": "https://localhost:8080/"
        },
        "id": "3dvte03TXl1Z",
        "outputId": "b98bd12b-f55b-4b09-c1ad-a8a00aee2432"
      },
      "id": "3dvte03TXl1Z",
      "execution_count": null,
      "outputs": [
        {
          "output_type": "stream",
          "name": "stdout",
          "text": [
            "                            OLS Regression Results                            \n",
            "==============================================================================\n",
            "Dep. Variable:                  Preis   R-squared:                       0.457\n",
            "Model:                            OLS   Adj. R-squared:                  0.455\n",
            "Method:                 Least Squares   F-statistic:                     269.1\n",
            "Date:                Sun, 24 Mar 2024   Prob (F-statistic):          9.57e-127\n",
            "Time:                        18:11:12   Log-Likelihood:                -7968.6\n",
            "No. Observations:                 965   AIC:                         1.595e+04\n",
            "Df Residuals:                     961   BIC:                         1.596e+04\n",
            "Df Model:                           3                                         \n",
            "Covariance Type:            nonrobust                                         \n",
            "====================================================================================================\n",
            "                                       coef    std err          t      P>|t|      [0.025      0.975]\n",
            "----------------------------------------------------------------------------------------------------\n",
            "Zimmer                              42.0652     54.044      0.778      0.437     -63.993     148.124\n",
            "Fläche                              26.7011      1.708     15.634      0.000      23.349      30.053\n",
            "Average_Miete_proM2_Postleitzahl    40.8378      2.972     13.741      0.000      35.005      46.670\n",
            "const                             -940.7625    187.584     -5.015      0.000   -1308.885    -572.640\n",
            "==============================================================================\n",
            "Omnibus:                      659.413   Durbin-Watson:                   1.179\n",
            "Prob(Omnibus):                  0.000   Jarque-Bera (JB):            18322.858\n",
            "Skew:                           2.710   Prob(JB):                         0.00\n",
            "Kurtosis:                      23.648   Cond. No.                         520.\n",
            "==============================================================================\n",
            "\n",
            "Notes:\n",
            "[1] Standard Errors assume that the covariance matrix of the errors is correctly specified.\n"
          ]
        }
      ]
    },
    {
      "cell_type": "markdown",
      "source": [
        "Anhand des p-Werts lässt sich erkennen, dass die Fläche und die Average_Miete_proM2_Postleitzahl einen signifikanten Einfluss auf den Preis haben. Die Anzahl der Zimmer ist grösser als 0.05 und somit nicht siginifikant. Das lässt sich auch dadurch erkennen, dass wenn man die Variable Zimmer aus dem Regressionsmodell ausschliesst, immer noch der gleiche WErt für R^2 0.45 ausgegeben wird (das modell also noch gleich gut erklärt wird)."
      ],
      "metadata": {
        "id": "ihRBNjZagnMB"
      },
      "id": "ihRBNjZagnMB"
    },
    {
      "cell_type": "markdown",
      "id": "dfb5c3f1",
      "metadata": {
        "id": "dfb5c3f1"
      },
      "source": [
        "## 10) Lesen Sie außerdem die AirBnB Daten ein, stellen den korrekten Datentyp für alle Variablen sicher, entfernen alle Variablen mit dem Datentyp String und erstellen einen Test- und Trainingsdatensatz"
      ]
    },
    {
      "cell_type": "code",
      "execution_count": null,
      "id": "08c15d5f",
      "metadata": {
        "id": "08c15d5f",
        "colab": {
          "base_uri": "https://localhost:8080/"
        },
        "outputId": "624fbed4-d26a-46da-c24a-8a0f2ebf7552"
      },
      "outputs": [
        {
          "output_type": "stream",
          "name": "stdout",
          "text": [
            "<class 'pandas.core.frame.DataFrame'>\n",
            "RangeIndex: 1648 entries, 0 to 1647\n",
            "Data columns (total 8 columns):\n",
            " #   Column                            Non-Null Count  Dtype  \n",
            "---  ------                            --------------  -----  \n",
            " 0   Features                          1648 non-null   object \n",
            " 1   Zimmer                            1648 non-null   float64\n",
            " 2   Stadt                             1648 non-null   object \n",
            " 3   Postleitzahl                      1648 non-null   float64\n",
            " 4   Preis                             1648 non-null   float64\n",
            " 5   Adresse                           1648 non-null   object \n",
            " 6   Fläche                            1648 non-null   float64\n",
            " 7   Average_Miete_proM2_Postleitzahl  1648 non-null   float64\n",
            "dtypes: float64(5), object(3)\n",
            "memory usage: 103.1+ KB\n"
          ]
        }
      ],
      "source": [
        "airbnb = pd.read_csv(path + \"airbnb.csv\")\n",
        "airbnb.info()"
      ]
    },
    {
      "cell_type": "code",
      "source": [
        "airbnb[\"Postleitzahl\"] = airbnb[\"Postleitzahl\"].astype(object)\n",
        "airbnb = airbnb.drop([\"Features\", \"Adresse\" , \"Stadt\", \"Postleitzahl\"], axis = 1)\n",
        "rent.head()"
      ],
      "metadata": {
        "colab": {
          "base_uri": "https://localhost:8080/",
          "height": 204
        },
        "id": "nbBOP5gBhPxy",
        "outputId": "22b24c60-b1db-4359-e7c9-45c0ee64f253"
      },
      "id": "nbBOP5gBhPxy",
      "execution_count": null,
      "outputs": [
        {
          "output_type": "execute_result",
          "data": {
            "text/plain": [
              "    Preis  Zimmer  Fläche  Average_Miete_proM2_Postleitzahl\n",
              "0  1950.0     2.0    75.0                         58.701345\n",
              "1  1640.0     1.5    40.0                         47.344255\n",
              "2  2051.0     3.0    59.0                         40.033191\n",
              "3  3850.0     2.5    72.0                         53.765652\n",
              "4  3030.0     2.0    70.0                         52.771184"
            ],
            "text/html": [
              "\n",
              "  <div id=\"df-d52c71d5-e11e-498b-bffe-fc848b3c63e9\" class=\"colab-df-container\">\n",
              "    <div>\n",
              "<style scoped>\n",
              "    .dataframe tbody tr th:only-of-type {\n",
              "        vertical-align: middle;\n",
              "    }\n",
              "\n",
              "    .dataframe tbody tr th {\n",
              "        vertical-align: top;\n",
              "    }\n",
              "\n",
              "    .dataframe thead th {\n",
              "        text-align: right;\n",
              "    }\n",
              "</style>\n",
              "<table border=\"1\" class=\"dataframe\">\n",
              "  <thead>\n",
              "    <tr style=\"text-align: right;\">\n",
              "      <th></th>\n",
              "      <th>Preis</th>\n",
              "      <th>Zimmer</th>\n",
              "      <th>Fläche</th>\n",
              "      <th>Average_Miete_proM2_Postleitzahl</th>\n",
              "    </tr>\n",
              "  </thead>\n",
              "  <tbody>\n",
              "    <tr>\n",
              "      <th>0</th>\n",
              "      <td>1950.0</td>\n",
              "      <td>2.0</td>\n",
              "      <td>75.0</td>\n",
              "      <td>58.701345</td>\n",
              "    </tr>\n",
              "    <tr>\n",
              "      <th>1</th>\n",
              "      <td>1640.0</td>\n",
              "      <td>1.5</td>\n",
              "      <td>40.0</td>\n",
              "      <td>47.344255</td>\n",
              "    </tr>\n",
              "    <tr>\n",
              "      <th>2</th>\n",
              "      <td>2051.0</td>\n",
              "      <td>3.0</td>\n",
              "      <td>59.0</td>\n",
              "      <td>40.033191</td>\n",
              "    </tr>\n",
              "    <tr>\n",
              "      <th>3</th>\n",
              "      <td>3850.0</td>\n",
              "      <td>2.5</td>\n",
              "      <td>72.0</td>\n",
              "      <td>53.765652</td>\n",
              "    </tr>\n",
              "    <tr>\n",
              "      <th>4</th>\n",
              "      <td>3030.0</td>\n",
              "      <td>2.0</td>\n",
              "      <td>70.0</td>\n",
              "      <td>52.771184</td>\n",
              "    </tr>\n",
              "  </tbody>\n",
              "</table>\n",
              "</div>\n",
              "    <div class=\"colab-df-buttons\">\n",
              "\n",
              "  <div class=\"colab-df-container\">\n",
              "    <button class=\"colab-df-convert\" onclick=\"convertToInteractive('df-d52c71d5-e11e-498b-bffe-fc848b3c63e9')\"\n",
              "            title=\"Convert this dataframe to an interactive table.\"\n",
              "            style=\"display:none;\">\n",
              "\n",
              "  <svg xmlns=\"http://www.w3.org/2000/svg\" height=\"24px\" viewBox=\"0 -960 960 960\">\n",
              "    <path d=\"M120-120v-720h720v720H120Zm60-500h600v-160H180v160Zm220 220h160v-160H400v160Zm0 220h160v-160H400v160ZM180-400h160v-160H180v160Zm440 0h160v-160H620v160ZM180-180h160v-160H180v160Zm440 0h160v-160H620v160Z\"/>\n",
              "  </svg>\n",
              "    </button>\n",
              "\n",
              "  <style>\n",
              "    .colab-df-container {\n",
              "      display:flex;\n",
              "      gap: 12px;\n",
              "    }\n",
              "\n",
              "    .colab-df-convert {\n",
              "      background-color: #E8F0FE;\n",
              "      border: none;\n",
              "      border-radius: 50%;\n",
              "      cursor: pointer;\n",
              "      display: none;\n",
              "      fill: #1967D2;\n",
              "      height: 32px;\n",
              "      padding: 0 0 0 0;\n",
              "      width: 32px;\n",
              "    }\n",
              "\n",
              "    .colab-df-convert:hover {\n",
              "      background-color: #E2EBFA;\n",
              "      box-shadow: 0px 1px 2px rgba(60, 64, 67, 0.3), 0px 1px 3px 1px rgba(60, 64, 67, 0.15);\n",
              "      fill: #174EA6;\n",
              "    }\n",
              "\n",
              "    .colab-df-buttons div {\n",
              "      margin-bottom: 4px;\n",
              "    }\n",
              "\n",
              "    [theme=dark] .colab-df-convert {\n",
              "      background-color: #3B4455;\n",
              "      fill: #D2E3FC;\n",
              "    }\n",
              "\n",
              "    [theme=dark] .colab-df-convert:hover {\n",
              "      background-color: #434B5C;\n",
              "      box-shadow: 0px 1px 3px 1px rgba(0, 0, 0, 0.15);\n",
              "      filter: drop-shadow(0px 1px 2px rgba(0, 0, 0, 0.3));\n",
              "      fill: #FFFFFF;\n",
              "    }\n",
              "  </style>\n",
              "\n",
              "    <script>\n",
              "      const buttonEl =\n",
              "        document.querySelector('#df-d52c71d5-e11e-498b-bffe-fc848b3c63e9 button.colab-df-convert');\n",
              "      buttonEl.style.display =\n",
              "        google.colab.kernel.accessAllowed ? 'block' : 'none';\n",
              "\n",
              "      async function convertToInteractive(key) {\n",
              "        const element = document.querySelector('#df-d52c71d5-e11e-498b-bffe-fc848b3c63e9');\n",
              "        const dataTable =\n",
              "          await google.colab.kernel.invokeFunction('convertToInteractive',\n",
              "                                                    [key], {});\n",
              "        if (!dataTable) return;\n",
              "\n",
              "        const docLinkHtml = 'Like what you see? Visit the ' +\n",
              "          '<a target=\"_blank\" href=https://colab.research.google.com/notebooks/data_table.ipynb>data table notebook</a>'\n",
              "          + ' to learn more about interactive tables.';\n",
              "        element.innerHTML = '';\n",
              "        dataTable['output_type'] = 'display_data';\n",
              "        await google.colab.output.renderOutput(dataTable, element);\n",
              "        const docLink = document.createElement('div');\n",
              "        docLink.innerHTML = docLinkHtml;\n",
              "        element.appendChild(docLink);\n",
              "      }\n",
              "    </script>\n",
              "  </div>\n",
              "\n",
              "\n",
              "<div id=\"df-1a989fef-4dc4-466d-b341-60addeca0e15\">\n",
              "  <button class=\"colab-df-quickchart\" onclick=\"quickchart('df-1a989fef-4dc4-466d-b341-60addeca0e15')\"\n",
              "            title=\"Suggest charts\"\n",
              "            style=\"display:none;\">\n",
              "\n",
              "<svg xmlns=\"http://www.w3.org/2000/svg\" height=\"24px\"viewBox=\"0 0 24 24\"\n",
              "     width=\"24px\">\n",
              "    <g>\n",
              "        <path d=\"M19 3H5c-1.1 0-2 .9-2 2v14c0 1.1.9 2 2 2h14c1.1 0 2-.9 2-2V5c0-1.1-.9-2-2-2zM9 17H7v-7h2v7zm4 0h-2V7h2v10zm4 0h-2v-4h2v4z\"/>\n",
              "    </g>\n",
              "</svg>\n",
              "  </button>\n",
              "\n",
              "<style>\n",
              "  .colab-df-quickchart {\n",
              "      --bg-color: #E8F0FE;\n",
              "      --fill-color: #1967D2;\n",
              "      --hover-bg-color: #E2EBFA;\n",
              "      --hover-fill-color: #174EA6;\n",
              "      --disabled-fill-color: #AAA;\n",
              "      --disabled-bg-color: #DDD;\n",
              "  }\n",
              "\n",
              "  [theme=dark] .colab-df-quickchart {\n",
              "      --bg-color: #3B4455;\n",
              "      --fill-color: #D2E3FC;\n",
              "      --hover-bg-color: #434B5C;\n",
              "      --hover-fill-color: #FFFFFF;\n",
              "      --disabled-bg-color: #3B4455;\n",
              "      --disabled-fill-color: #666;\n",
              "  }\n",
              "\n",
              "  .colab-df-quickchart {\n",
              "    background-color: var(--bg-color);\n",
              "    border: none;\n",
              "    border-radius: 50%;\n",
              "    cursor: pointer;\n",
              "    display: none;\n",
              "    fill: var(--fill-color);\n",
              "    height: 32px;\n",
              "    padding: 0;\n",
              "    width: 32px;\n",
              "  }\n",
              "\n",
              "  .colab-df-quickchart:hover {\n",
              "    background-color: var(--hover-bg-color);\n",
              "    box-shadow: 0 1px 2px rgba(60, 64, 67, 0.3), 0 1px 3px 1px rgba(60, 64, 67, 0.15);\n",
              "    fill: var(--button-hover-fill-color);\n",
              "  }\n",
              "\n",
              "  .colab-df-quickchart-complete:disabled,\n",
              "  .colab-df-quickchart-complete:disabled:hover {\n",
              "    background-color: var(--disabled-bg-color);\n",
              "    fill: var(--disabled-fill-color);\n",
              "    box-shadow: none;\n",
              "  }\n",
              "\n",
              "  .colab-df-spinner {\n",
              "    border: 2px solid var(--fill-color);\n",
              "    border-color: transparent;\n",
              "    border-bottom-color: var(--fill-color);\n",
              "    animation:\n",
              "      spin 1s steps(1) infinite;\n",
              "  }\n",
              "\n",
              "  @keyframes spin {\n",
              "    0% {\n",
              "      border-color: transparent;\n",
              "      border-bottom-color: var(--fill-color);\n",
              "      border-left-color: var(--fill-color);\n",
              "    }\n",
              "    20% {\n",
              "      border-color: transparent;\n",
              "      border-left-color: var(--fill-color);\n",
              "      border-top-color: var(--fill-color);\n",
              "    }\n",
              "    30% {\n",
              "      border-color: transparent;\n",
              "      border-left-color: var(--fill-color);\n",
              "      border-top-color: var(--fill-color);\n",
              "      border-right-color: var(--fill-color);\n",
              "    }\n",
              "    40% {\n",
              "      border-color: transparent;\n",
              "      border-right-color: var(--fill-color);\n",
              "      border-top-color: var(--fill-color);\n",
              "    }\n",
              "    60% {\n",
              "      border-color: transparent;\n",
              "      border-right-color: var(--fill-color);\n",
              "    }\n",
              "    80% {\n",
              "      border-color: transparent;\n",
              "      border-right-color: var(--fill-color);\n",
              "      border-bottom-color: var(--fill-color);\n",
              "    }\n",
              "    90% {\n",
              "      border-color: transparent;\n",
              "      border-bottom-color: var(--fill-color);\n",
              "    }\n",
              "  }\n",
              "</style>\n",
              "\n",
              "  <script>\n",
              "    async function quickchart(key) {\n",
              "      const quickchartButtonEl =\n",
              "        document.querySelector('#' + key + ' button');\n",
              "      quickchartButtonEl.disabled = true;  // To prevent multiple clicks.\n",
              "      quickchartButtonEl.classList.add('colab-df-spinner');\n",
              "      try {\n",
              "        const charts = await google.colab.kernel.invokeFunction(\n",
              "            'suggestCharts', [key], {});\n",
              "      } catch (error) {\n",
              "        console.error('Error during call to suggestCharts:', error);\n",
              "      }\n",
              "      quickchartButtonEl.classList.remove('colab-df-spinner');\n",
              "      quickchartButtonEl.classList.add('colab-df-quickchart-complete');\n",
              "    }\n",
              "    (() => {\n",
              "      let quickchartButtonEl =\n",
              "        document.querySelector('#df-1a989fef-4dc4-466d-b341-60addeca0e15 button');\n",
              "      quickchartButtonEl.style.display =\n",
              "        google.colab.kernel.accessAllowed ? 'block' : 'none';\n",
              "    })();\n",
              "  </script>\n",
              "</div>\n",
              "    </div>\n",
              "  </div>\n"
            ],
            "application/vnd.google.colaboratory.intrinsic+json": {
              "type": "dataframe",
              "variable_name": "rent",
              "summary": "{\n  \"name\": \"rent\",\n  \"rows\": 1377,\n  \"fields\": [\n    {\n      \"column\": \"Preis\",\n      \"properties\": {\n        \"dtype\": \"number\",\n        \"std\": 1534.7157737534571,\n        \"min\": 500.0,\n        \"max\": 16875.0,\n        \"num_unique_values\": 568,\n        \"samples\": [\n          7500.0,\n          2430.0,\n          4390.0\n        ],\n        \"semantic_type\": \"\",\n        \"description\": \"\"\n      }\n    },\n    {\n      \"column\": \"Zimmer\",\n      \"properties\": {\n        \"dtype\": \"number\",\n        \"std\": 1.149938267194407,\n        \"min\": 1.0,\n        \"max\": 13.0,\n        \"num_unique_values\": 16,\n        \"samples\": [\n          2.0,\n          1.5,\n          3.5\n        ],\n        \"semantic_type\": \"\",\n        \"description\": \"\"\n      }\n    },\n    {\n      \"column\": \"Fl\\u00e4che\",\n      \"properties\": {\n        \"dtype\": \"number\",\n        \"std\": 36.70824064515721,\n        \"min\": 10.0,\n        \"max\": 450.0,\n        \"num_unique_values\": 153,\n        \"samples\": [\n          131.0,\n          94.0,\n          104.0\n        ],\n        \"semantic_type\": \"\",\n        \"description\": \"\"\n      }\n    },\n    {\n      \"column\": \"Average_Miete_proM2_Postleitzahl\",\n      \"properties\": {\n        \"dtype\": \"number\",\n        \"std\": 10.902232848409778,\n        \"min\": 13.43,\n        \"max\": 74.087,\n        \"num_unique_values\": 65,\n        \"samples\": [\n          30.05666666666667,\n          26.75,\n          58.701344537815125\n        ],\n        \"semantic_type\": \"\",\n        \"description\": \"\"\n      }\n    }\n  ]\n}"
            }
          },
          "metadata": {},
          "execution_count": 21
        }
      ]
    },
    {
      "cell_type": "markdown",
      "id": "f289440b",
      "metadata": {
        "id": "f289440b"
      },
      "source": [
        "## 11) Erstellen Sie ein Regressionsmodell mit dem Sie den Preis in einer AirBnB Wohnung vorhersagen! Vergleichen Sie dies mit dem regulären Wohnungmarkt."
      ]
    },
    {
      "cell_type": "code",
      "execution_count": null,
      "id": "1db56fc4",
      "metadata": {
        "id": "1db56fc4",
        "colab": {
          "base_uri": "https://localhost:8080/"
        },
        "outputId": "87544c62-ac5a-4e30-f133-674ce6065153"
      },
      "outputs": [
        {
          "output_type": "stream",
          "name": "stdout",
          "text": [
            "                            OLS Regression Results                            \n",
            "==============================================================================\n",
            "Dep. Variable:                  Preis   R-squared:                       0.202\n",
            "Model:                            OLS   Adj. R-squared:                  0.200\n",
            "Method:                 Least Squares   F-statistic:                     145.4\n",
            "Date:                Sun, 24 Mar 2024   Prob (F-statistic):           4.81e-57\n",
            "Time:                        18:18:05   Log-Likelihood:                -11586.\n",
            "No. Observations:                1155   AIC:                         2.318e+04\n",
            "Df Residuals:                    1152   BIC:                         2.319e+04\n",
            "Df Model:                           2                                         \n",
            "Covariance Type:            nonrobust                                         \n",
            "====================================================================================================\n",
            "                                       coef    std err          t      P>|t|      [0.025      0.975]\n",
            "----------------------------------------------------------------------------------------------------\n",
            "Zimmer                            -454.9868     63.811     -7.130      0.000    -580.185    -329.788\n",
            "Fläche                             117.4734      9.647     12.177      0.000      98.546     136.401\n",
            "Average_Miete_proM2_Postleitzahl    41.1410      3.189     12.900      0.000      34.884      47.398\n",
            "const                            -4870.4595    679.087     -7.172      0.000   -6202.846   -3538.073\n",
            "==============================================================================\n",
            "Omnibus:                     1305.661   Durbin-Watson:                   1.440\n",
            "Prob(Omnibus):                  0.000   Jarque-Bera (JB):           178017.631\n",
            "Skew:                           5.384   Prob(JB):                         0.00\n",
            "Kurtosis:                      62.859   Cond. No.                     1.68e+16\n",
            "==============================================================================\n",
            "\n",
            "Notes:\n",
            "[1] Standard Errors assume that the covariance matrix of the errors is correctly specified.\n",
            "[2] The smallest eigenvalue is 1.48e-25. This might indicate that there are\n",
            "strong multicollinearity problems or that the design matrix is singular.\n"
          ]
        }
      ],
      "source": [
        "n = airbnb.shape[0]\n",
        "instance = round(n*0.7, 0)\n",
        "airbnb_train = airbnb.loc[0:instance,:]\n",
        "airbnb_test = airbnb.loc[instance+1:,:]\n",
        "\n",
        "y = airbnb_train[\"Preis\"]\n",
        "X = airbnb_train[[\"Zimmer\", \"Fläche\" , \"Average_Miete_proM2_Postleitzahl\"]]\n",
        "\n",
        "X = sm.add_constant(X, prepend=False)\n",
        "model2  = sm.OLS(y, X)\n",
        "\n",
        "model2 = model2.fit()\n",
        "\n",
        "print(model2.summary())"
      ]
    },
    {
      "cell_type": "markdown",
      "source": [
        "Im Vergleich ist der Preis eines Airbnbs weniger gut bestimmbar wie der einer Zürcher Wohnung, da R^2 nur bei 0.202 liegt. Eine Hypthese hierfür wäre, dass am Airbnb Markt auch andere Variablen einen starken Einfluss haben, die in diesem Modell nicht berücksichtig werden (beispielsweise Saison und Nebensaison).\n",
        "Gleich wie am Wohnungsmarkt lässt sich über die Fläche und die Average_Miete_proM2_Postleitzahl der Preis bestimmen, jedoch ist zusätzlich ebenfalls die Variable Zimmer signfikant."
      ],
      "metadata": {
        "id": "0Crqycl-r2rZ"
      },
      "id": "0Crqycl-r2rZ"
    },
    {
      "cell_type": "markdown",
      "id": "93d3178d",
      "metadata": {
        "id": "93d3178d"
      },
      "source": [
        "## 12) Vergleichen Sie die RMSE-Werte Ihrer Modelle. Wie gross ist die Unsicherheit, die mit Ihrer Entscheidung (regulärer Mietmarkt vs. AirBnB) einhergeht?"
      ]
    },
    {
      "cell_type": "code",
      "source": [
        "### Wohnungsmarkt ####\n",
        "y_test1= rent_test[\"Preis\"]\n",
        "X_test1 = rent_test[[\"Zimmer\" , \"Fläche\" , \"Average_Miete_proM2_Postleitzahl\"]]\n",
        "\n",
        "X_test1 = sm.add_constant(X_test1, prepend=False)\n",
        "preds = model.predict(X_test1)\n",
        "\n",
        "RMSE_rent = np.sqrt(np.mean((preds - y_test1)**2))\n",
        "\n",
        "print(RMSE_rent)\n",
        "\n",
        "### Airbnb ###\n",
        "\n",
        "y_test2= airbnb_test[\"Preis\"]\n",
        "X_test2 = airbnb[[\"Zimmer\" , \"Fläche\" , \"Average_Miete_proM2_Postleitzahl\"]]\n",
        "\n",
        "X_test2 = sm.add_constant(X_test2, prepend=False)\n",
        "preds = model.predict(X_test2)\n",
        "\n",
        "RMSE_rent = np.sqrt(np.mean((preds - y_test2)**2))\n",
        "\n",
        "print(RMSE_rent)"
      ],
      "metadata": {
        "colab": {
          "base_uri": "https://localhost:8080/"
        },
        "id": "TmfI3TGmjUks",
        "outputId": "cd0061ae-fcad-48b2-dd79-d29e466aab69"
      },
      "id": "TmfI3TGmjUks",
      "execution_count": null,
      "outputs": [
        {
          "output_type": "stream",
          "name": "stdout",
          "text": [
            "1357.486398193816\n",
            "4430.141890758069\n"
          ]
        }
      ]
    },
    {
      "cell_type": "markdown",
      "source": [
        "Im Durschnitt weicht der vorhergesagt Preis im Wohnungsmarkt um 1357 CHF vom tatsächlich Wert ab, während es beim Airbnb Data Set 4430 CHF sind. Das heisst, dass der RMSE für den Wohnungsmarkt kleiner ist als der für Airbnbs, und somit Airbnbs  mit grösseren durschnittlichen Abweichungen  vorhergesagt werden – also ungenauer sind."
      ],
      "metadata": {
        "id": "RjjfykxMlIap"
      },
      "id": "RjjfykxMlIap"
    },
    {
      "cell_type": "markdown",
      "id": "834bf64e",
      "metadata": {
        "id": "834bf64e"
      },
      "source": [
        "## 13) Was ist der zu erwartenden Mietpreis für Ihre Wohnung auf AirBnB und dem regulären Mietmarkt? Für Welche Option entscheiden sie sich?"
      ]
    },
    {
      "cell_type": "code",
      "execution_count": null,
      "id": "8474be73",
      "metadata": {
        "id": "8474be73",
        "colab": {
          "base_uri": "https://localhost:8080/"
        },
        "outputId": "9085ab1a-26d6-45dc-ccc8-5c1e42c257e4"
      },
      "outputs": [
        {
          "output_type": "stream",
          "name": "stdout",
          "text": [
            "   Zimmer  Fläche  Average_Miete_proM2_Postleitzahl  const\n",
            "0       2      50                               153      1\n"
          ]
        }
      ],
      "source": [
        "meine_wohnung = pd.DataFrame({\n",
        "    'Zimmer': [2],\n",
        "    'Fläche': [50],\n",
        "    'Average_Miete_proM2_Postleitzahl': [153],\n",
        "    \"const\" : [1] # Hier hatte ich lange einen Fehler und habe Unterstützung eines Mitstudierenden bekommmen. Mein Fehler war, dass ich die Const immer in die erste Spalte gesetzt habe.\n",
        "})\n",
        "\n",
        "print(meine_wohnung)"
      ]
    },
    {
      "cell_type": "code",
      "execution_count": null,
      "id": "f5db914f",
      "metadata": {
        "id": "f5db914f",
        "colab": {
          "base_uri": "https://localhost:8080/"
        },
        "outputId": "5ba5067e-9f55-4ce1-afcf-d0af270bba92"
      },
      "outputs": [
        {
          "output_type": "execute_result",
          "data": {
            "text/plain": [
              "0    6726.599638\n",
              "dtype: float64"
            ]
          },
          "metadata": {},
          "execution_count": 43
        }
      ],
      "source": [
        "vorhergesagter_preis_wohnung = model.predict(meine_wohnung)\n",
        "vorhergesagter_preis_wohnung"
      ]
    },
    {
      "cell_type": "code",
      "source": [
        "vorhergesagter_preis_airbnb = model2.predict(meine_wohnung)\n",
        "vorhergesagter_preis_airbnb"
      ],
      "metadata": {
        "colab": {
          "base_uri": "https://localhost:8080/"
        },
        "id": "dy2Dcfvi0kWT",
        "outputId": "2de9c112-2136-418d-8b72-450837027a80"
      },
      "id": "dy2Dcfvi0kWT",
      "execution_count": null,
      "outputs": [
        {
          "output_type": "execute_result",
          "data": {
            "text/plain": [
              "0    6387.81657\n",
              "dtype: float64"
            ]
          },
          "metadata": {},
          "execution_count": 44
        }
      ]
    },
    {
      "cell_type": "markdown",
      "source": [
        "Ich entscheide mich für den Wohnungsmarkt, da ich hier eine höhere Miete verlangen kann. Allerdings muss ich auch beachten, dass signifikante Variablen für die Airbnb Preisbestimmung evtl nicht berücksichtigt worden sind, und der vorhergesagte Preis evtl einer grossen Abweichung unterliegt. Es empfiehlt sich Variablen wie die Saison mit aufzunehmen und die Vorhersage zu wiederholen."
      ],
      "metadata": {
        "id": "fsFTIoBY0tmI"
      },
      "id": "fsFTIoBY0tmI"
    },
    {
      "cell_type": "markdown",
      "id": "62e46793",
      "metadata": {
        "id": "62e46793"
      },
      "source": [
        "# Optional - Nicht teil der Bewertung"
      ]
    },
    {
      "cell_type": "markdown",
      "id": "9891a6c4",
      "metadata": {
        "id": "9891a6c4"
      },
      "source": [
        "## 14) Ändert sich die Qualität der Vorhersagen, wenn wir Ashenfelter's statistischen Trick anwenden?"
      ]
    },
    {
      "cell_type": "code",
      "execution_count": null,
      "id": "90114ddd",
      "metadata": {
        "id": "90114ddd"
      },
      "outputs": [],
      "source": []
    },
    {
      "cell_type": "markdown",
      "id": "ab6c936c",
      "metadata": {
        "id": "ab6c936c"
      },
      "source": [
        "## 15) Ändert sich die Qualität der Vorhersage, wenn wir die Objekte in Dummies umwandeln?"
      ]
    },
    {
      "cell_type": "code",
      "execution_count": null,
      "id": "12cf6c66",
      "metadata": {
        "id": "12cf6c66"
      },
      "outputs": [],
      "source": []
    }
  ],
  "metadata": {
    "kernelspec": {
      "display_name": "Python 3 (ipykernel)",
      "language": "python",
      "name": "python3"
    },
    "language_info": {
      "codemirror_mode": {
        "name": "ipython",
        "version": 3
      },
      "file_extension": ".py",
      "mimetype": "text/x-python",
      "name": "python",
      "nbconvert_exporter": "python",
      "pygments_lexer": "ipython3",
      "version": "3.11.4"
    },
    "colab": {
      "provenance": [],
      "toc_visible": true,
      "include_colab_link": true
    }
  },
  "nbformat": 4,
  "nbformat_minor": 5
}